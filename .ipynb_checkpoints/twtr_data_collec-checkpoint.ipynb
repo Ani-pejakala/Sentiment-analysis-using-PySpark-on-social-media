{
 "cells": [
  {
   "cell_type": "code",
   "execution_count": 1,
   "metadata": {},
   "outputs": [],
   "source": [
    "# !pip install --user package_name\n",
    "from datetime import datetime\n",
    "import tweepy\n",
    "import csv\n",
    "import time\n",
    "import pandas as pd\n",
    "import string"
   ]
  },
  {
   "cell_type": "code",
   "execution_count": 2,
   "metadata": {},
   "outputs": [],
   "source": [
    "####input your credentials here\n",
    "consumer_key = ''\n",
    "consumer_secret = ''\n",
    "access_token = ''\n",
    "access_token_secret = ''\n",
    "\n",
    "auth = tweepy.OAuthHandler(consumer_key, consumer_secret)\n",
    "auth.set_access_token(access_token, access_token_secret)\n",
    "api = tweepy.API(auth, wait_on_rate_limit=True, wait_on_rate_limit_notify=True)"
   ]
  },
  {
   "cell_type": "code",
   "execution_count": 4,
   "metadata": {},
   "outputs": [
    {
     "name": "stdout",
     "output_type": "stream",
     "text": [
      "0 23:30:19.931713\n",
      "10000 23:49:59.339854\n",
      "20000 00:09:27.293606\n",
      "30000 00:28:54.384381\n",
      "40000 00:51:44.172890\n",
      "50000 01:11:19.820982\n",
      "60000 01:30:46.601440\n",
      "70000 01:50:32.718364\n",
      "80000 02:10:10.036615\n",
      "90000 02:31:06.534201\n",
      "100000 02:52:38.709423\n",
      "110000 03:13:07.590683\n",
      "120000 03:32:51.540590\n",
      "130000 03:52:48.139744\n",
      "140000 04:12:43.031147\n",
      "150000 04:32:36.997888\n",
      "160000 04:52:46.805138\n",
      "170000 05:13:09.124501\n",
      "180000 05:33:28.661955\n",
      "190000 05:53:54.098513\n",
      "200000 06:14:30.231135\n"
     ]
    },
    {
     "ename": "AttributeError",
     "evalue": "'_csv.writer' object has no attribute 'close'",
     "output_type": "error",
     "traceback": [
      "\u001b[0;31m---------------------------------------------------------------------------\u001b[0m",
      "\u001b[0;31mAttributeError\u001b[0m                            Traceback (most recent call last)",
      "\u001b[0;32m<ipython-input-4-6a473d11490a>\u001b[0m in \u001b[0;36m<module>\u001b[0;34m\u001b[0m\n\u001b[1;32m     38\u001b[0m         \u001b[0mprint\u001b[0m\u001b[0;34m(\u001b[0m\u001b[0mtweet_count\u001b[0m\u001b[0;34m,\u001b[0m\u001b[0mdatetime\u001b[0m\u001b[0;34m.\u001b[0m\u001b[0mnow\u001b[0m\u001b[0;34m(\u001b[0m\u001b[0;34m)\u001b[0m\u001b[0;34m.\u001b[0m\u001b[0mtime\u001b[0m\u001b[0;34m(\u001b[0m\u001b[0;34m)\u001b[0m\u001b[0;34m)\u001b[0m\u001b[0;34m\u001b[0m\u001b[0;34m\u001b[0m\u001b[0m\n\u001b[1;32m     39\u001b[0m \u001b[0;34m\u001b[0m\u001b[0m\n\u001b[0;32m---> 40\u001b[0;31m \u001b[0mcsvWriter\u001b[0m\u001b[0;34m.\u001b[0m\u001b[0mclose\u001b[0m\u001b[0;34m(\u001b[0m\u001b[0;34m)\u001b[0m\u001b[0;34m\u001b[0m\u001b[0;34m\u001b[0m\u001b[0m\n\u001b[0m\u001b[1;32m     41\u001b[0m \u001b[0mplaceCsvWriter\u001b[0m\u001b[0;34m.\u001b[0m\u001b[0mclose\u001b[0m\u001b[0;34m(\u001b[0m\u001b[0;34m)\u001b[0m\u001b[0;34m\u001b[0m\u001b[0;34m\u001b[0m\u001b[0m\n",
      "\u001b[0;31mAttributeError\u001b[0m: '_csv.writer' object has no attribute 'close'"
     ]
    }
   ],
   "source": [
    "#####modi\n",
    "query = 'modi'\n",
    "# Open/Create a file to append data\n",
    "csvFile = open('modi_data_200k.csv', 'w', encoding='utf-8')\n",
    "placeCsvFile = open('modi_geo_data.csv', 'w', encoding='utf-8')\n",
    "#Use csv Writer\n",
    "csvWriter = csv.writer(csvFile)\n",
    "placeCsvWriter = csv.writer(placeCsvFile)\n",
    "\n",
    "cursor = tweepy.Cursor(api.search, q=query+' -RT', count=1000, tweet_mode='extended', lang=\"en\", since=\"2019-01-01\").items(200000)    \n",
    "\n",
    "tweet_count = 0\n",
    "print(tweet_count,datetime.now().time())\n",
    "\n",
    "for tweet_info in cursor:\n",
    "    time.sleep(0.1) \n",
    "    try:\n",
    "        tweet_text = tweet_info.extended_tweet.full_text\n",
    "    except AttributeError:\n",
    "        tweet_text = tweet_info.full_text\n",
    "            \n",
    "           # print (tweet_info.created_at, tweet_info.user.screen_name, tweet_text, tweet_info.favorite_count, \n",
    "           #         tweet_info.retweet_count, tweet_info.place.bounding_box.coordinates,tweet_info.place.full_name,\n",
    "           #         tweet_info.place.country)\n",
    "    csvWriter.writerow([tweet_info.created_at, \n",
    "                        tweet_info.user.screen_name, \n",
    "                        tweet_text, \n",
    "                        tweet_info.favorite_count,\n",
    "                        tweet_info.retweet_count])\n",
    "    \n",
    "    if tweet_info.place is not None:            \n",
    "        placeCsvWriter.writerow([tweet_info.place.bounding_box.coordinates,\n",
    "                            tweet_info.place.full_name,\n",
    "                            tweet_info.place.country])\n",
    "        \n",
    "    tweet_count+=1\n",
    "    if tweet_count%10000 == 0:\n",
    "        print(tweet_count,datetime.now().time())    \n"
   ]
  },
  {
   "cell_type": "code",
   "execution_count": null,
   "metadata": {},
   "outputs": [],
   "source": []
  }
 ],
 "metadata": {
  "kernelspec": {
   "display_name": "Python 3",
   "language": "python",
   "name": "python3"
  },
  "language_info": {
   "codemirror_mode": {
    "name": "ipython",
    "version": 3
   },
   "file_extension": ".py",
   "mimetype": "text/x-python",
   "name": "python",
   "nbconvert_exporter": "python",
   "pygments_lexer": "ipython3",
   "version": "3.7.1"
  }
 },
 "nbformat": 4,
 "nbformat_minor": 2
}
